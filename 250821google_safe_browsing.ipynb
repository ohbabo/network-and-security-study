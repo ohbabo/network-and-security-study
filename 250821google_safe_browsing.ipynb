{
 "cells": [
  {
   "cell_type": "code",
   "id": "initial_id",
   "metadata": {
    "collapsed": true,
    "ExecuteTime": {
     "end_time": "2025-08-21T10:39:20.305393Z",
     "start_time": "2025-08-21T10:39:20.294556Z"
    }
   },
   "source": [
    "#임포트\n",
    "import os,requests\n",
    "from multiprocessing.managers import Value\n",
    "from urllib.parse import urlparse"
   ],
   "outputs": [],
   "execution_count": 3
  },
  {
   "metadata": {
    "ExecuteTime": {
     "end_time": "2025-08-21T10:39:27.005617Z",
     "start_time": "2025-08-21T10:39:26.987400Z"
    }
   },
   "cell_type": "code",
   "source": [
    "#SB_KEY = os.getenv('SAFE_BROWSING_KEY')\n",
    "#쥬피터용 직접key 삽입\n",
    "SB_KEY = ''\n",
    "ENDPOINT = f'https://safebrowsing.googleapis.com/v4/threatMatches:find?key={SB_KEY}'\n",
    "\n"
   ],
   "id": "16cf0771f4836fda",
   "outputs": [],
   "execution_count": 4
  },
  {
   "metadata": {
    "ExecuteTime": {
     "end_time": "2025-08-21T10:39:27.974778Z",
     "start_time": "2025-08-21T10:39:27.954444Z"
    }
   },
   "cell_type": "code",
   "source": [
    "#4 url 정규화 (스킴 붙이기)\n",
    "\n",
    "def _normalize_url(u:str) -> str:\n",
    "    u = (u or \"\").strip()\n",
    "    return u if \"://\" in u else \"https://\" + u\n",
    "\n",
    "#url 정규화 과정\n",
    "#만약에 프록스에 스키마가 없는 형태로 들어올수가 있음 https 같은거\n",
    "#맨처음에 strip()로 빈 공백을 제거 str만 추출\n",
    "#해당 url에서 스키마가 있는지 확인 :// 없으면 https:// 붙여서 u 반환 \n",
    "\n",
    "#그런데 스킴 있느냐 없느냐 할떄\" \":// 이걸로 검사\n",
    "\n"
   ],
   "id": "3dfad57a69c13576",
   "outputs": [],
   "execution_count": 5
  },
  {
   "metadata": {
    "ExecuteTime": {
     "end_time": "2025-08-21T10:42:48.877272Z",
     "start_time": "2025-08-21T10:42:48.854641Z"
    }
   },
   "cell_type": "code",
   "source": [
    "# url 형식 가벼운 검사\n",
    "\n",
    "def _must_have_host(u:str) -> None:\n",
    "    \n",
    "    if not urlparse(u).hostname: #urlparse(u) 를 통해 hostname 유효성 검사  https:// 스키마 이후에 것들\n",
    "        raise ValueError(\"호스트 명이 없음\")\n",
    "    \n",
    "    "
   ],
   "id": "ba837e1fec15639",
   "outputs": [],
   "execution_count": 6
  },
  {
   "metadata": {
    "ExecuteTime": {
     "end_time": "2025-08-21T10:56:18.459200Z",
     "start_time": "2025-08-21T10:56:18.452724Z"
    }
   },
   "cell_type": "code",
   "source": [
    "def _build_body(url:str)->dict: #핵심 이거 \n",
    "    return {\n",
    "        \"client\": {\"clientId\":\"phising쉴드\",\"clientVersion\":\"1.0\"},\n",
    "        \"threatInfo\":{ #병렬info\n",
    "            \"threatTypes\":[\"MALWARE\",\"SOCIAL_ENGINEERING\"], #위협 분류\n",
    "            \"platformTypes\":[\"ANY_PLATFORM\"], # 플랫폼 설정 모든 플랫폼\n",
    "            \"threatEntryTypes\":[\"URL\"], #앤트리 유형 URL만\n",
    "            \"threatEntries\":[{\"url\":url}] #앤트리 목록 URL\n",
    "        }\n",
    "    }\n"
   ],
   "id": "32072c0d9de6ed23",
   "outputs": [],
   "execution_count": 9
  },
  {
   "metadata": {
    "ExecuteTime": {
     "end_time": "2025-08-21T11:01:34.301734Z",
     "start_time": "2025-08-21T11:01:34.285227Z"
    }
   },
   "cell_type": "code",
   "source": [
    "#http 호출(핵심)\n",
    "\n",
    "def _post_browsing(body:dict)->dict:\n",
    "    if not SB_KEY : raise RuntimeError(\"api key가 없음\")\n",
    "    \n",
    "    res= requests.post(ENDPOINT,json=body,timeout=5) #근데 post할 데이터가 dict형식이란걸 어떻게 알음?\n",
    "    res.raise_for_status(); return res.json()  #raise_for_status() -> HTTP 오류코드 4xx,5xx를 명시적으로 예외로 바꿈"
   ],
   "id": "d339ae5aa8d8f12f",
   "outputs": [],
   "execution_count": 10
  },
  {
   "metadata": {
    "ExecuteTime": {
     "end_time": "2025-08-21T11:13:54.544272Z",
     "start_time": "2025-08-21T11:13:54.537328Z"
    }
   },
   "cell_type": "code",
   "source": [
    "# 단일 URL 판정(bool)\n",
    "#safe Browsing 응답 규칙 : 일치하는 위협이 있으면 matches 필드가 등장\n",
    "def sb_check(url:str) -> bool: \n",
    "    _normalize_url(url)\n",
    "    _must_have_host(url)\n",
    "    body = _build_body(url) #빈깡통 \n",
    "    \n",
    "    data = _post_browsing(body)\n",
    "    \n",
    "    return \"matches\" in data #data 안에 matches가 있는지 있으면 위협 상태 true,false 반환"
   ],
   "id": "d9ff785cca54ad7d",
   "outputs": [],
   "execution_count": 15
  },
  {
   "metadata": {
    "ExecuteTime": {
     "end_time": "2025-08-21T11:13:55.006950Z",
     "start_time": "2025-08-21T11:13:54.726966Z"
    }
   },
   "cell_type": "code",
   "source": [
    "bad = \"http://testsafebrowsing.appspot.com/s/phishing.html\"\n",
    "print(sb_check(bad))"
   ],
   "id": "c732a7a78b9ceb89",
   "outputs": [
    {
     "name": "stdout",
     "output_type": "stream",
     "text": [
      "True\n"
     ]
    }
   ],
   "execution_count": 16
  },
  {
   "metadata": {
    "ExecuteTime": {
     "end_time": "2025-08-21T11:30:16.670322Z",
     "start_time": "2025-08-21T11:30:16.663379Z"
    }
   },
   "cell_type": "code",
   "source": [
    "#상세 정보가 필요할떄(dict)\n",
    "\n",
    "def sb_check_detail(url:str) -> dict:\n",
    "    u = _normalize_url(url)\n",
    "    _must_have_host(u)\n",
    "    body = _build_body(u)\n",
    "    data = _post_browsing(body)\n",
    "    \n",
    "    return {\"url\": u, \"malicious\": \"matches\" in data, \"details\": data.get(\"matches\", [])}\n",
    "\n",
    "    "
   ],
   "id": "475179f0a93b7779",
   "outputs": [],
   "execution_count": 17
  },
  {
   "metadata": {
    "ExecuteTime": {
     "end_time": "2025-08-21T11:30:24.759755Z",
     "start_time": "2025-08-21T11:30:24.435568Z"
    }
   },
   "cell_type": "code",
   "source": [
    "print(sb_check_detail(\"http://testsafebrowsing.appspot.com/s/phishing.html\"))\n",
    "\n"
   ],
   "id": "93cc5fe36198818e",
   "outputs": [
    {
     "name": "stdout",
     "output_type": "stream",
     "text": [
      "{'url': 'http://testsafebrowsing.appspot.com/s/phishing.html', 'malicious': True, 'details': [{'threatType': 'SOCIAL_ENGINEERING', 'platformType': 'ANY_PLATFORM', 'threat': {'url': 'http://testsafebrowsing.appspot.com/s/phishing.html'}, 'cacheDuration': '300s', 'threatEntryType': 'URL'}]}\n"
     ]
    }
   ],
   "execution_count": 18
  },
  {
   "metadata": {},
   "cell_type": "code",
   "outputs": [],
   "execution_count": null,
   "source": "",
   "id": "23d0482061c0a445"
  }
 ],
 "metadata": {
  "kernelspec": {
   "display_name": "Python 3",
   "language": "python",
   "name": "python3"
  },
  "language_info": {
   "codemirror_mode": {
    "name": "ipython",
    "version": 2
   },
   "file_extension": ".py",
   "mimetype": "text/x-python",
   "name": "python",
   "nbconvert_exporter": "python",
   "pygments_lexer": "ipython2",
   "version": "2.7.6"
  }
 },
 "nbformat": 4,
 "nbformat_minor": 5
}
