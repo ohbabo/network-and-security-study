{
 "cells": [
  {
   "cell_type": "code",
   "id": "initial_id",
   "metadata": {
    "collapsed": true,
    "ExecuteTime": {
     "end_time": "2025-08-18T06:56:03.703168Z",
     "start_time": "2025-08-18T06:56:03.679204Z"
    }
   },
   "source": [
    "#url 파싱 \n",
    " #scheme,hostname만 알면된다\n",
    " \n",
    "from urllib.parse import urlparse\n",
    "\n",
    "u = urlparse('https://www.google.com') #url\n",
    "\n",
    "print(u.scheme)\n",
    "print(u.hostname)"
   ],
   "outputs": [
    {
     "name": "stdout",
     "output_type": "stream",
     "text": [
      "https\n",
      "www.google.com\n"
     ]
    }
   ],
   "execution_count": 1
  },
  {
   "metadata": {
    "ExecuteTime": {
     "end_time": "2025-08-18T07:19:21.217010Z",
     "start_time": "2025-08-18T07:19:21.107304Z"
    }
   },
   "cell_type": "code",
   "source": [
    "#TCP만 연결 -SSL 없이 보안 없이\n",
    "import socket\n",
    "#세로운 메서드 socket에서 \n",
    "#create_connection((hostname,port))\n",
    "with socket.create_connection((u.hostname,443)) as sock:\n",
    "    print(\"TCP connected\")\n",
    "    print(sock)"
   ],
   "id": "b7c25d64fbe50939",
   "outputs": [
    {
     "name": "stdout",
     "output_type": "stream",
     "text": [
      "TCP connected\n",
      "<socket.socket fd=1400, family=AddressFamily.AF_INET6, type=SocketKind.SOCK_STREAM, proto=0, laddr=('2406:5900:101a:4c56:9450:2696:538f:2693', 54178, 0, 0), raddr=('2404:6800:4005:822::2004', 443, 0, 0)>\n"
     ]
    }
   ],
   "execution_count": 2
  },
  {
   "metadata": {
    "ExecuteTime": {
     "end_time": "2025-08-18T10:38:44.273179Z",
     "start_time": "2025-08-18T10:38:44.208352Z"
    }
   },
   "cell_type": "code",
   "source": [
    "#3) TLS 컨텍스트 만들기 (검증옵션)\n",
    "\n",
    "import ssl\n",
    "\n",
    "ctx = ssl.create_default_context()\n",
    "#20살이 민증들고 술사려고 가 민증검사를 해야해 일단 이민증이 올바르게 국가에서 발급이 되었는지 눈으로봐야함ssl.CERT_REQUIRED  그다음에 이사람 민증 얼굴을 대조해서 맞는지도 봐야함 check_hostname \n",
    "\n",
    "ctx.check_hostname = True  # 접속 호스트 명과 인증서 이름 일치 검사\n",
    "ctx.verify_mode = ssl.CERT_REQUIRED # 인증서가 신뢰 가능한 ca에서 발급 되었는지 검사\n",
    "\n",
    "\n",
    "#목적 보안 통신 규칙 준비"
   ],
   "id": "b4760e445c789a10",
   "outputs": [],
   "execution_count": 3
  },
  {
   "metadata": {
    "ExecuteTime": {
     "end_time": "2025-08-18T11:11:56.610738Z",
     "start_time": "2025-08-18T11:11:56.417420Z"
    }
   },
   "cell_type": "code",
   "source": [
    "#TLS로 감싸기\n",
    "\n",
    "import socket,ssl\n",
    "\n",
    "hostname = \"www.google.com\"\n",
    "ctx = ssl.create_default_context() #검증도구\n",
    "\n",
    "#ctx.check_hostname = True \n",
    "#ctx.verify_mode = ssl.CERT_REQUIRED\n",
    "\n",
    "with socket.create_connection((hostname,443))as sock:\n",
    "    with ctx.wrap_socket(sock,server_hostname=hostname) as ssock: \n",
    "        cert = ssock.getpeercert() \n",
    "        print(cert)"
   ],
   "id": "4aa13844b5e2abb8",
   "outputs": [
    {
     "name": "stdout",
     "output_type": "stream",
     "text": [
      "{'subject': ((('commonName', 'www.google.com'),),), 'issuer': ((('countryName', 'US'),), (('organizationName', 'Google Trust Services'),), (('commonName', 'WE2'),)), 'version': 3, 'serialNumber': '0A8D497AAC4C4D9410A6911C22EE555E', 'notBefore': 'Jul  7 08:36:00 2025 GMT', 'notAfter': 'Sep 29 08:35:59 2025 GMT', 'subjectAltName': (('DNS', 'www.google.com'),), 'OCSP': ('http://o.pki.goog/we2',), 'caIssuers': ('http://i.pki.goog/we2.crt',), 'crlDistributionPoints': ('http://c.pki.goog/we2/dTM3-0hpWfE.crl',)}\n"
     ]
    }
   ],
   "execution_count": 9
  },
  {
   "metadata": {
    "ExecuteTime": {
     "end_time": "2025-08-18T11:26:00.051309Z",
     "start_time": "2025-08-18T11:26:00.030367Z"
    }
   },
   "cell_type": "code",
   "source": [
    "#cn 공통이름 뽑기 subject,issuer\n",
    "\n",
    "def pick_cn(name_list):\n",
    "    \n",
    "    for tup in name_list:\n",
    "        for k,v in tup:\n",
    "            if k.lower() ==\"commonname\":\n",
    "                return v\n",
    "    return None\n",
    "\n",
    "subject_cn =pick_cn(cert.get(\"subject\"))\n",
    "issuer_cn = pick_cn(cert.get(\"issuer\"))\n",
    "\n",
    "print(subject_cn)\n",
    "print(issuer_cn)\n",
    "            "
   ],
   "id": "116b9c3c92f1ec16",
   "outputs": [
    {
     "name": "stdout",
     "output_type": "stream",
     "text": [
      "www.google.com\n",
      "WE2\n"
     ]
    }
   ],
   "execution_count": 10
  },
  {
   "metadata": {
    "ExecuteTime": {
     "end_time": "2025-08-18T11:30:27.942703Z",
     "start_time": "2025-08-18T11:30:27.924779Z"
    }
   },
   "cell_type": "code",
   "source": [
    "sans = [v for k,v in cert.get(\"subjectAltName\",())if k==\"DNS\"]\n",
    "print(sans)"
   ],
   "id": "7d6434f198217444",
   "outputs": [
    {
     "name": "stdout",
     "output_type": "stream",
     "text": [
      "['www.google.com']\n"
     ]
    }
   ],
   "execution_count": 11
  },
  {
   "metadata": {
    "ExecuteTime": {
     "end_time": "2025-08-18T11:31:22.678464Z",
     "start_time": "2025-08-18T11:31:22.656496Z"
    }
   },
   "cell_type": "code",
   "source": [
    "cert.get( \"subjectAltName\"\n",
    ")"
   ],
   "id": "fab2dbe07c464b4e",
   "outputs": [
    {
     "data": {
      "text/plain": [
       "(('DNS', 'www.google.com'),)"
      ]
     },
     "execution_count": 12,
     "metadata": {},
     "output_type": "execute_result"
    }
   ],
   "execution_count": 12
  },
  {
   "metadata": {
    "ExecuteTime": {
     "end_time": "2025-08-18T13:45:31.145431Z",
     "start_time": "2025-08-18T13:45:31.131585Z"
    }
   },
   "cell_type": "code",
   "source": [
    "#만료일파싱 -> 시간비교 (형식주의)\n",
    "\n",
    "from datetime import timezone,datetime\n",
    "\n",
    "not_after = cert.get(\"notAfter\")\n",
    "\n",
    "dt = datetime.strptime(not_after,\"%b %d %H:%M:%S %Y %Z\").replace(tzinfo=timezone.utc)\n",
    "\n",
    "expired= dt < datetime.now(timezone.utc)\n",
    "\n",
    "print(dt.isoformat()) \n",
    "print(expired)"
   ],
   "id": "96a3f571c6df5014",
   "outputs": [
    {
     "name": "stdout",
     "output_type": "stream",
     "text": [
      "2025-09-29T08:35:59+00:00\n",
      "False\n"
     ]
    }
   ],
   "execution_count": 17
  },
  {
   "metadata": {
    "ExecuteTime": {
     "end_time": "2025-08-18T13:48:48.339635Z",
     "start_time": "2025-08-18T13:48:48.331630Z"
    }
   },
   "cell_type": "code",
   "source": [
    "issuer_cn = pick_cn(cert.get(\"issuer\",()))  \n",
    "print(issuer_cn)"
   ],
   "id": "72e727474df22a95",
   "outputs": [
    {
     "name": "stdout",
     "output_type": "stream",
     "text": [
      "WE2\n"
     ]
    }
   ],
   "execution_count": 19
  },
  {
   "metadata": {
    "ExecuteTime": {
     "end_time": "2025-08-18T13:50:49.759555Z",
     "start_time": "2025-08-18T13:50:49.739176Z"
    }
   },
   "cell_type": "code",
   "source": [
    "result ={\n",
    "    \"valid\": not expired,\n",
    "    \"subject_cn\": subject_cn,\n",
    "    \"issuer_cn\": issuer_cn,\n",
    "    \"not_after\": dt.isoformat(),  \n",
    "} \n",
    "print(result)"
   ],
   "id": "eda562cd42ebf56d",
   "outputs": [
    {
     "name": "stdout",
     "output_type": "stream",
     "text": [
      "{'valid': True, 'subject_cn': 'www.google.com', 'issuer_cn': 'WE2', 'not_after': '2025-09-29T08:35:59+00:00'}\n"
     ]
    }
   ],
   "execution_count": 20
  },
  {
   "metadata": {},
   "cell_type": "code",
   "outputs": [],
   "execution_count": null,
   "source": "",
   "id": "1b573bf724fe6b71"
  }
 ],
 "metadata": {
  "kernelspec": {
   "display_name": "Python 3",
   "language": "python",
   "name": "python3"
  },
  "language_info": {
   "codemirror_mode": {
    "name": "ipython",
    "version": 2
   },
   "file_extension": ".py",
   "mimetype": "text/x-python",
   "name": "python",
   "nbconvert_exporter": "python",
   "pygments_lexer": "ipython2",
   "version": "2.7.6"
  }
 },
 "nbformat": 4,
 "nbformat_minor": 5
}
